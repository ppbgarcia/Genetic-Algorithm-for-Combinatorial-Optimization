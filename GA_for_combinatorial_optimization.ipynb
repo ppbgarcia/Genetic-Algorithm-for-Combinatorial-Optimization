{
  "nbformat": 4,
  "nbformat_minor": 0,
  "metadata": {
    "colab": {
      "name": "Untitled3.ipynb",
      "provenance": [],
      "collapsed_sections": [],
      "mount_file_id": "1fRs9eKrhPTDtSBdLbgxHV1p9bh2JYdYK",
      "authorship_tag": "ABX9TyP75B0QS/DvWmR3JKlYK9tg",
      "include_colab_link": true
    },
    "kernelspec": {
      "name": "python3",
      "display_name": "Python 3"
    },
    "language_info": {
      "name": "python"
    },
    "gpuClass": "standard"
  },
  "cells": [
    {
      "cell_type": "markdown",
      "metadata": {
        "id": "view-in-github",
        "colab_type": "text"
      },
      "source": [
        "<a href=\"https://colab.research.google.com/github/ppbgarcia/Projects1/blob/main/GA_for_combinatorial_optimization.ipynb\" target=\"_parent\"><img src=\"https://colab.research.google.com/assets/colab-badge.svg\" alt=\"Open In Colab\"/></a>"
      ]
    },
    {
      "cell_type": "markdown",
      "source": [
        ""
      ],
      "metadata": {
        "id": "obzXxjG4pzO9"
      }
    },
    {
      "cell_type": "markdown",
      "source": [
        "**SOBRE OTIMIZAÇÃO COMBINATORIAL - ENACOM**"
      ],
      "metadata": {
        "id": "2cxaDJxkFPQT"
      }
    },
    {
      "cell_type": "markdown",
      "source": [
        "Apesar de ser mais utilizado para problemas contínuos, para esse desafio foi escolhida a utilização de um algoritmo genético para a otimização combinatorial. Cada indivíduo é uma combinação e a ativação de cada gene a presença ou não do correspondente investimento na melhor solução. A cada geração, o melhor indivíduo é salvo e introduzido na população da próxima geração.\n",
        "Não foi necessária a utilização para a solução a densidade de valor de cada investimento, pois o algoritmo usaria apenas a condição do indivíduo na função.\n",
        "\n",
        "Abaixo, há uma descrição do algoritmo:\n",
        "\n",
        "\n",
        "1.   Importar os dados dos investimentos de um arquivo (para o desafio em questão, foi-se declarado o dataframe manualmente, afim de ser executável por vocês)\n",
        "2.   Verificar restrições (Há restrições 'inúteis'?)\n",
        "     - Primeira restrição desabilita o investimento 5 caso 1 for habilitado\n",
        "     - Segunda restrição é igual a somar ao investimento 2 o investimento 4\n",
        "3.   Criar vetor inicial de booleanos\n",
        "4.   Aplicar N-mutações ao vetor inicial\n",
        "5.   Torneio aleatório nos vetores e seleção de parentes\n",
        "6.   Geração de filhos a partir de todos pais\n",
        "7.   Mutação nos filhos\n",
        "8.   Verificação das restrições nos filhos\n",
        "9.   Voltar ao passo 5 i-gerações\n",
        "\n",
        "\n"
      ],
      "metadata": {
        "id": "o1WEiZ8t4RFe"
      }
    },
    {
      "cell_type": "markdown",
      "source": [
        "**DECLARAÇÃO DAS FUNÇÕES AUXILIARES**"
      ],
      "metadata": {
        "id": "B3kTvnw6sf1H"
      }
    },
    {
      "cell_type": "code",
      "source": [
        "def gera_indv(tabela, total):\n",
        "  invest = 0\n",
        "  i = 0\n",
        "  indexes = list(bytearray(len(tabela)))\n",
        "  for n in range(len(tabela)):\n",
        "    if total >= (invest + tabela.Investimento[n]):\n",
        "      indexes[n] = True\n",
        "      invest += tabela.Investimento[n]\n",
        "    if indexes[n] == False:\n",
        "      tabela = tabela.drop(index = n)\n",
        "  indexes = np.array(indexes,dtype = bool)\n",
        "  \n",
        "  return indexes"
      ],
      "metadata": {
        "id": "eog9OJ9EvAmx"
      },
      "execution_count": 93,
      "outputs": []
    },
    {
      "cell_type": "code",
      "source": [
        "def limitadores(indexes, investimentos, maximo):\n",
        "  if indexes[0] == True:\n",
        "    indexes[4] = False\n",
        "  if indexes[4] == True:\n",
        "    indexes[0] = False\n",
        "  if indexes[1] == True:\n",
        "    indexes[3] = False\n",
        "  if indexes[3] == True:\n",
        "    indexes[1] = False\n",
        "  \n",
        "  return indexes"
      ],
      "metadata": {
        "id": "Ci82T0rYK_LR"
      },
      "execution_count": 94,
      "outputs": []
    },
    {
      "cell_type": "code",
      "execution_count": 95,
      "metadata": {
        "id": "E5yKslwCFOAv"
      },
      "outputs": [],
      "source": [
        "def mutacao(individuo, taxa, investimentos, maximo):\n",
        "  for i in range(len(individuo)):\n",
        "    aux = random.random()\n",
        "    if taxa < aux:\n",
        "      individuo[i] = not individuo[i]\n",
        "  individuo = limite_maximo(individuo, investimentos, maximo)\n",
        "  \n",
        "  return np.array(individuo)"
      ]
    },
    {
      "cell_type": "code",
      "source": [
        "def limite_maximo(indexes, investimentos, maximo):\n",
        "  while (investimentos.Investimento[indexes].sum()) > (maximo):\n",
        "    indexes[random.randint(0,len(indexes)-1)] = False\n",
        "  indexes = limitadores(indexes, investimentos, maximo)\n",
        "  \n",
        "  return indexes"
      ],
      "metadata": {
        "id": "H3TUJeo7Ol1u"
      },
      "execution_count": 96,
      "outputs": []
    },
    {
      "cell_type": "code",
      "source": [
        "def torneio(indexes, investimentos):\n",
        "  aux = (len(indexes)-1)\n",
        "  i = 0\n",
        "  vencedores = indexes[i]\n",
        "  melhor = [False]*len(investimentos)\n",
        "  while i < aux:\n",
        "    ind1 = indexes[i]\n",
        "    ind2 = indexes[i+1]\n",
        "    if (investimentos.Retorno[ind1].sum()) > (investimentos.Retorno[ind2].sum()):\n",
        "      vencedores = np.vstack((vencedores, ind1))\n",
        "      if (investimentos.Retorno[ind1].sum() > investimentos.Retorno[melhor].sum()):\n",
        "        melhor = ind1\n",
        "    else:\n",
        "      if (investimentos.Retorno[ind2].sum()) > (investimentos.Retorno[melhor].sum()):\n",
        "        melhor = ind2\n",
        "      vencedores = np.vstack((vencedores, ind2))\n",
        "    i+=2\n",
        "\n",
        "  return vencedores, melhor\n"
      ],
      "metadata": {
        "id": "nVISqja8cyPI"
      },
      "execution_count": 97,
      "outputs": []
    },
    {
      "cell_type": "code",
      "source": [
        "def cruzamento(individuos, aux1, investimentos, maximo):\n",
        "  for j in range(len(individuos)):\n",
        "    for i in range(len(aux1)):\n",
        "      if random.random()<0.1:\n",
        "        individuos[j][-i] = aux1[-i]\n",
        "  \n",
        "  return individuos\n"
      ],
      "metadata": {
        "id": "RMyYEP9rt2En"
      },
      "execution_count": 98,
      "outputs": []
    },
    {
      "cell_type": "markdown",
      "source": [
        "**DECLARAÇÃO DA FUNÇÃO PRINCIPAL E BIBLIOTECAS**"
      ],
      "metadata": {
        "id": "elQCzKRys7-h"
      }
    },
    {
      "cell_type": "code",
      "source": [
        "import pandas as pd\n",
        "import numpy as np\n",
        "import random \n",
        "import warnings\n",
        "\n",
        "warnings.filterwarnings(\"ignore\")\n",
        "\n",
        "def GA(geracoes, pop, arquivo):\n",
        "  maximo = 1000000\n",
        "\n",
        "#------------------IMPORTAÇÃO DA TABELA DE INVESTIMENTOS-----------------------#\n",
        "  investimentos = arquivo\n",
        "  #investimentos = pd.read_excel(arquivo)\n",
        "\n",
        "#-------------------SIMPLIFICAÇÃO DA PRIMEIRA REGRA ---------------------------#\n",
        "  investimentos.loc[1] = investimentos.loc[1]+investimentos.loc[3]\n",
        "  investimentos.Descrição[1] = 'MGL e P&D I' #Primeiro + segundo investimento\n",
        "\n",
        "#-------------------GERAÇÃO DOS PRIMEIROS INDIVIDUOS---------------------------#\n",
        "\n",
        "  individuos = gera_indv(investimentos, maximo)\n",
        "\n",
        "#-------------------MUTAÇÃO PARA DA PRIMEIRA GERAÇÃO---------------------------#\n",
        "\n",
        "  parentes = [individuos]\n",
        "  for i in range(pop):\n",
        "   aux = np.array(mutacao(individuos, 0.3, investimentos, maximo))\n",
        "   aux = limite_maximo(aux, investimentos, maximo)\n",
        "   parentes = np.vstack((aux, parentes))\n",
        "  vencedores, melhor1 = torneio(parentes,investimentos)\n",
        "\n",
        "#-----------------------------TORNEIO E MUTAÇÃO--------------------------------#\n",
        "  for n in range(geracoes):\n",
        "   vencedores, aux = torneio(vencedores,investimentos)\n",
        "   melhor = limite_maximo(aux, investimentos, maximo)\n",
        "  \n",
        "   if (investimentos.Retorno[melhor].sum()) > (investimentos.Retorno[melhor1].sum()):\n",
        "     melhor1 = melhor #Reservando melhor combinação\n",
        "    \n",
        "   for i in range(int(pop/2)):\n",
        "     aux = np.array(mutacao(vencedores[i], 0.2, investimentos, maximo))\n",
        "     vencedores = np.vstack((vencedores, aux))\n",
        "#------------------------------CRUZAMENTO--------------------------------------#\n",
        "\n",
        "   vencedores = cruzamento(vencedores, melhor1, investimentos, maximo)\n",
        "   vencedores[0] = melhor1 #\n",
        "\n",
        "#----------------RETORNO DA MELHOR POSIÇÃO E MELHOR SOMA-----------------------#\n",
        "  return investimentos[melhor1], investimentos.Retorno[melhor1].sum()"
      ],
      "metadata": {
        "id": "QQ639vVhvAx0"
      },
      "execution_count": 99,
      "outputs": []
    },
    {
      "cell_type": "markdown",
      "source": [
        "**CHAMADA DA FUNÇÃO GA (GENETIC ALGORITHM)**\n",
        "\n",
        "Pela característica estocástica, relativamente barata tratando-se de uso de memória e GPU e a velocidade de um algoritmo genético, optou-se por iterar a função N-vezes, de forma a garantir o melhor máximo possível. Pela dimensão relativamente reduzida, uma população baixa e poucas gerações, poucas iterações garantem uma porcentagem de acerto muito alta."
      ],
      "metadata": {
        "id": "pYDTyXpkgiUv"
      }
    },
    {
      "cell_type": "code",
      "source": [
        "investimento = {\n",
        "    'Descrição' : ['Ampliação da capacidade do armazém ZDP em 5%', 'Ampliação da capacidade do armazém MGL em 7%', 'Compra de empilhadeira', 'Projeto de P&D I', 'Projeto de P&D II', 'Aquisição de novos equipamentos', 'Capacitação de funcionários', 'Ampliação da estrutura de carga rodoviária'],\n",
        "    'Investimento' : [470000, 400000, 170000, 270000, 340000, 230000, 50000, 440000],\n",
        "    'Retorno' : [410000, 330000, 140000, 250000, 320000, 320000, 90000, 190000]\n",
        "}\n",
        "investimento = pd.DataFrame(investimento)\n",
        "\n",
        "media = 0\n",
        "iter = 10\n",
        "gen = 50\n",
        "pop = 25\n",
        "melhor_soma = 0\n",
        "pior_valor = 990000\n",
        "melhor_individuo = []\n",
        "exat = 0\n",
        "soma = 0\n",
        "\n",
        "#----------------------CHAMADA DA FUNÇÃO GA N-VEZES----------------------------#\n",
        "for i in range(iter):\n",
        "  melhor, soma = GA(gen, pop, investimento)\n",
        "  if soma > melhor_soma:\n",
        "    melhor_soma = soma\n",
        "    melhor_individuo = melhor\n",
        "  elif soma < pior_valor:\n",
        "    pior_valor = soma\n",
        "  media += soma/iter\n",
        "\n",
        "#-------------------------------RESULTADOS-------------------------------------#\n",
        "\n",
        "\n",
        "print('\\t\\t\\t       DADOS DE 100 ITERAÇÕES')\n",
        "print('\\t\\t\\t\\t   INVESTIMENTOS\\n',investimento, '\\n\\n')\n",
        "print('\\t\\t\\t\\tMELHORES INVESTIMENTOS\\n',melhor_individuo, '\\n\\n')\n",
        "print('\\nMédia: ',media, '\\t Melhor valor: ', melhor_soma, '\\t Pior valor:', pior_valor)"
      ],
      "metadata": {
        "colab": {
          "base_uri": "https://localhost:8080/"
        },
        "id": "AvDxKi1gwEBt",
        "outputId": "ecd0cf3a-6f93-40ac-8493-ab105e8cd3bb"
      },
      "execution_count": 153,
      "outputs": [
        {
          "output_type": "stream",
          "name": "stdout",
          "text": [
            "\t\t\t       DADOS DE 100 ITERAÇÕES\n",
            "\t\t\t\t   INVESTIMENTOS\n",
            "                                       Descrição  Investimento  Retorno\n",
            "0  Ampliação da capacidade do armazém ZDP em 5%        470000   410000\n",
            "1                                   MGL e P&D I       3100000  2830000\n",
            "2                        Compra de empilhadeira        170000   140000\n",
            "3                              Projeto de P&D I        270000   250000\n",
            "4                             Projeto de P&D II        340000   320000\n",
            "5               Aquisição de novos equipamentos        230000   320000\n",
            "6                   Capacitação de funcionários         50000    90000\n",
            "7    Ampliação da estrutura de carga rodoviária        440000   190000 \n",
            "\n",
            "\n",
            "\t\t\t\tMELHORES INVESTIMENTOS\n",
            "                          Descrição  Investimento  Retorno\n",
            "1                      MGL e P&D I        670000   580000\n",
            "5  Aquisição de novos equipamentos        230000   320000\n",
            "6      Capacitação de funcionários         50000    90000 \n",
            "\n",
            "\n",
            "\n",
            "Média:  981000.0 \t Melhor valor:  990000 \t Pior valor: 980000\n"
          ]
        }
      ]
    }
  ]
}